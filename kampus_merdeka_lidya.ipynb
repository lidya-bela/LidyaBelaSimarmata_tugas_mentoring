{
  "nbformat": 4,
  "nbformat_minor": 0,
  "metadata": {
    "colab": {
      "provenance": []
    },
    "kernelspec": {
      "name": "python3",
      "display_name": "Python 3"
    },
    "language_info": {
      "name": "python"
    }
  },
  "cells": [
    {
      "cell_type": "code",
      "source": [
        "odd=[x for x in range(1,98+1) if x %2!=0]\n",
        "squares=[x**2 for x in odd]\n",
        "total=sum(squares)\n",
        "ratarata=total/len(squares)\n",
        "print(total)\n",
        "print(ratarata)"
      ],
      "metadata": {
        "id": "Q4MNFOHXqdJJ",
        "colab": {
          "base_uri": "https://localhost:8080/"
        },
        "outputId": "c592c8f9-575b-4f10-807a-87392a66f879"
      },
      "execution_count": null,
      "outputs": [
        {
          "output_type": "stream",
          "name": "stdout",
          "text": [
            "156849\n",
            "3201.0\n"
          ]
        }
      ]
    },
    {
      "cell_type": "code",
      "source": [
        "b = int(input(\"masukan nilai b= \"))\n",
        "if b>250: #conditional form\n",
        "    print('big value')\n",
        "else:\n",
        "    print('small value')"
      ],
      "metadata": {
        "colab": {
          "base_uri": "https://localhost:8080/"
        },
        "id": "oMiZmOEoncOi",
        "outputId": "dcb5d15a-29d8-472f-fa8d-1732a0bf290b"
      },
      "execution_count": null,
      "outputs": [
        {
          "output_type": "stream",
          "name": "stdout",
          "text": [
            "masukan nilai b= 251\n",
            "big value\n"
          ]
        }
      ]
    },
    {
      "cell_type": "code",
      "source": [
        "while True:\n",
        "  b = int(input(\"masukan nilai b= \"))\n",
        "  if b>250:\n",
        "    print('big value')\n",
        "  else:\n",
        "    print('small value')\n",
        "    break"
      ],
      "metadata": {
        "colab": {
          "base_uri": "https://localhost:8080/"
        },
        "id": "fLY43qi9ofrJ",
        "outputId": "ae6c3e7b-7899-4d5f-92e4-b99743437d48"
      },
      "execution_count": null,
      "outputs": [
        {
          "output_type": "stream",
          "name": "stdout",
          "text": [
            "masukan nilai b= 30\n",
            "small value\n"
          ]
        }
      ]
    },
    {
      "cell_type": "code",
      "source": [
        "pas= input(\"masukkan password= \")\n",
        "panjang=len(pas)>=8\n",
        "c2=\"2\" in pas\n",
        "cZ= \"Z\" in pas\n",
        "char=\".\" in pas\n",
        "if panjang!=True:\n",
        "    print(\"minimal 8 karakter\")\n",
        "elif c2!=True:\n",
        "    print(\"harus mengandung 2\")\n",
        "elif cZ!=True:\n",
        "    print(\"harus mengandung Z\")\n",
        "elif char!=True:\n",
        "    print(\"harus mengandung .\")\n",
        "else:\n",
        "    print(\"password valid\")"
      ],
      "metadata": {
        "colab": {
          "base_uri": "https://localhost:8080/"
        },
        "id": "cj24khymFFdK",
        "outputId": "e91a77cd-abe4-4c8c-d83f-ace85afcd34f"
      },
      "execution_count": null,
      "outputs": [
        {
          "output_type": "stream",
          "name": "stdout",
          "text": [
            "masukkan password= lidyabela2Z.\n",
            "password valid\n"
          ]
        }
      ]
    },
    {
      "cell_type": "code",
      "source": [
        "while True:\n",
        "    pas= input(\"masukkan password= \")\n",
        "    panjang=len(pas)>=8\n",
        "    c2=\"2\" in pas\n",
        "    cZ= \"Z\" in pas\n",
        "    char=\".\" in pas\n",
        "    if panjang!=True:\n",
        "        print(\"minimal 8 karakter\")\n",
        "    elif c2!=True:\n",
        "        print(\"harus mengandung 2\")\n",
        "    elif cZ!=True:\n",
        "        print(\"harus mengandung Z\")\n",
        "    elif char!=True:\n",
        "        print(\"harus mengandung .\")\n",
        "    else:\n",
        "        print(\"password valid\")\n",
        "        break"
      ],
      "metadata": {
        "colab": {
          "base_uri": "https://localhost:8080/"
        },
        "id": "JQmpJWY8F6gU",
        "outputId": "6138944f-b877-4bad-9cac-fc40e1df6d66"
      },
      "execution_count": null,
      "outputs": [
        {
          "output_type": "stream",
          "name": "stdout",
          "text": [
            "masukkan password= password32.Z\n",
            "password valid\n"
          ]
        }
      ]
    },
    {
      "cell_type": "code",
      "source": [
        "count=0 \n",
        "contoh_list=['acc', 'xyz', 'aba', '1221', 'aca']\n",
        "for i in range(len(contoh_list)): #untuk i yang dibatasi, sesuai dengan panjang contoh_list\n",
        "    if(contoh_list[i][0] == contoh_list[i][-1]): #[i] merupakan list dan [0] merupakan karakter pertama dari depan dalam tiap kata pada list, [-1] merupakan karakter pertama dari belakang dalam tiap kata pada list. Sehingga perintah ini berfungsi untuk melakukan pengecekan kondisi, apakah karakter pertama dari depan sama dengan karakter pertama dari belakang dari list yang sama\n",
        "        count += 1 #count berfungsi sebagai wadah untuk menampung dari kondisi if yang True kemudian ditambah 1\n",
        "print('jumlah string yg sama=',count)"
      ],
      "metadata": {
        "colab": {
          "base_uri": "https://localhost:8080/"
        },
        "id": "LOs66iMXqnR0",
        "outputId": "2d7c03c3-f166-4c97-b958-151aaaa47dd1"
      },
      "execution_count": null,
      "outputs": [
        {
          "output_type": "stream",
          "name": "stdout",
          "text": [
            "jumlah string yg sama= 3\n"
          ]
        }
      ]
    },
    {
      "cell_type": "code",
      "source": [
        "while True:\n",
        "    kata=input(\"masukan kata= \")\n",
        "    if kata == kata[::-1]:\n",
        "        print(kata ,\"merupakan palindrom\")\n",
        "        break\n",
        "    else:\n",
        "        print(kata, \"bukan palindrom\")"
      ],
      "metadata": {
        "colab": {
          "base_uri": "https://localhost:8080/"
        },
        "id": "KIAz0YraGEJe",
        "outputId": "d40f4df8-6bcf-45f8-85b4-3b18092092a9"
      },
      "execution_count": null,
      "outputs": [
        {
          "output_type": "stream",
          "name": "stdout",
          "text": [
            "masukan kata= makan\n",
            "makan bukan palindrom\n",
            "masukan kata= katak\n",
            "katak merupakan palindrom\n"
          ]
        }
      ]
    },
    {
      "cell_type": "code",
      "source": [
        "def hitung(s):\n",
        "    d={'upper':0,'lower':0}\n",
        "    for x in s:\n",
        "        if x.isupper():\n",
        "            d['upper']+=1\n",
        "        elif x.islower():\n",
        "            d['lower']+=1\n",
        "    print('string kalimat:', s)\n",
        "    print('jumlah huruf kecil:',d['lower'])\n",
        "    print('jumlah huruf kapital:',d['upper'])\n",
        "hitung('IgekrlMNopqrstu')"
      ],
      "metadata": {
        "id": "79-V6Hg-GzsE",
        "outputId": "6b141da3-5259-42cb-c0ac-2274bf54a1ae",
        "colab": {
          "base_uri": "https://localhost:8080/"
        }
      },
      "execution_count": null,
      "outputs": [
        {
          "output_type": "stream",
          "name": "stdout",
          "text": [
            "string kalimat: IgekrlMNopqrstu\n",
            "jumlah huruf kecil: 12\n",
            "jumlah huruf kapital: 3\n"
          ]
        }
      ]
    },
    {
      "cell_type": "code",
      "source": [
        "#Kata ganjil\n",
        "list1=[\"dan\",\"kami\",\"rakyat\",\"indonesia\",\"ketika\",\"bisa\",\"merdeka\"]\n",
        "for i in list1:\n",
        "    if len(i)%2==1:\n",
        "        print(i,end=\" \")"
      ],
      "metadata": {
        "colab": {
          "base_uri": "https://localhost:8080/"
        },
        "id": "CrkyyQgmGFJR",
        "outputId": "f2ab4704-4f3a-434f-d637-a8662b3329b3"
      },
      "execution_count": null,
      "outputs": [
        {
          "output_type": "stream",
          "name": "stdout",
          "text": [
            "dan indonesia merdeka "
          ]
        }
      ]
    },
    {
      "cell_type": "code",
      "source": [
        "#kata genap\n",
        "list1=[\"dan\",\"kami\",\"rakyat\",\"indonesia\",\"ketika\",\"bisa\",\"merdeka\"]\n",
        "for i in list1:\n",
        "    if len(i)%2==0:\n",
        "        print(i,end=\" \")"
      ],
      "metadata": {
        "colab": {
          "base_uri": "https://localhost:8080/"
        },
        "id": "EolCEUTjsQSH",
        "outputId": "b4cd8571-2fc3-4119-ba12-22f774762654"
      },
      "execution_count": null,
      "outputs": [
        {
          "output_type": "stream",
          "name": "stdout",
          "text": [
            "kami rakyat ketika bisa "
          ]
        }
      ]
    }
  ]
}